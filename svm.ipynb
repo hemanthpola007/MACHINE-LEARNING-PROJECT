{
 "cells": [
  {
   "cell_type": "code",
   "execution_count": null,
   "metadata": {},
   "outputs": [],
   "source": [
    "# Import modules and packages\n",
    "import numpy as np\n",
    "import pandas as pd\n",
    "import matplotlib.pyplot as plt\n",
    "import datetime as dt\n",
    "from datetime import datetime\n"
   ]
  },
  {
   "cell_type": "code",
   "execution_count": null,
   "metadata": {},
   "outputs": [],
   "source": [
    "data= pd.read_csv('C:/Users/19054/Desktop/mlp/GOOG1.csv')\n",
    "print(data.info())\n",
    "data\n"
   ]
  },
  {
   "cell_type": "code",
   "execution_count": null,
   "metadata": {},
   "outputs": [],
   "source": [
    "\n",
    "\n",
    "\n",
    "# Extract dates (will be used in visualization)\n",
    "datelist = list(data['Date'])\n",
    "datelist= [dt.datetime.strptime(date, '%Y-%m-%d').date() for date in datelist]\n",
    "\n",
    "train_data= data.drop(labels=[\"Date\"], axis=1)\n",
    "\n",
    "print('Training set shape == {}'.format(train_data.shape))\n",
    "print('All timestamps == {}'.format(len(datelist)))\n",
    "train_data"
   ]
  },
  {
   "cell_type": "code",
   "execution_count": 4,
   "metadata": {},
   "outputs": [
    {
     "name": "stdout",
     "output_type": "stream",
     "text": [
      "\n",
      "A_train:\n",
      "\n",
      "             High          Low        Close    Adj Close   Volume\n",
      "677    705.710022   696.434998   705.630005   705.630005  1575200\n",
      "1663  1468.000000  1443.209961  1456.160034  1456.160034  1409200\n",
      "174    575.011292   563.463013   569.536316   569.536316  1356700\n",
      "844    838.150024   831.789978   835.369995   835.369995   989800\n",
      "231    578.262390   571.281555   575.779175   575.779175  1621700\n",
      "(1410, 5)\n",
      "\n",
      "\n",
      "\n",
      "A_test:\n",
      "\n",
      "             High          Low        Close    Adj Close   Volume\n",
      "958    915.275024   907.153992   910.669983   910.669983  1342700\n",
      "1170  1162.496948  1147.260010  1155.479980  1155.479980  1311000\n",
      "92     602.989868   590.167908   592.309875   592.309875  4708600\n",
      "1679  1443.000000  1409.819946  1438.040039  1438.040039  1775200\n",
      "1272  1071.849976  1031.780029  1064.709961  1064.709961  1836100\n",
      "(353, 5)\n",
      "\n",
      "\n",
      "\n",
      "B_train:\n",
      "\n",
      "677      699.500000\n",
      "1663    1445.359985\n",
      "174      564.360535\n",
      "844      833.510010\n",
      "231      575.350403\n",
      "Name: Open, dtype: float64\n",
      "(1410,)\n",
      "\n",
      "\n",
      "\n",
      "A_test:\n",
      "\n",
      "958      910.309998\n",
      "1170    1159.140015\n",
      "92       601.719604\n",
      "1679    1411.099976\n",
      "1272    1044.709961\n",
      "Name: Open, dtype: float64\n",
      "(353,)\n",
      "\n",
      "\n"
     ]
    }
   ],
   "source": [
    "from sklearn.model_selection import train_test_split\n",
    "\n",
    "B = train_data.Open\n",
    "A = train_data.drop('Open', axis=1)\n",
    "A_train, A_test, B_train, B_test = train_test_split(A, B,test_size=0.2)\n",
    "print(\"\\nA_train:\\n\")\n",
    "print(A_train.head())\n",
    "print(A_train.shape)\n",
    "print(\"\\n\")\n",
    "\n",
    "print(\"\\nA_test:\\n\")\n",
    "print(A_test.head())\n",
    "print(A_test.shape)\n",
    "print(\"\\n\")\n",
    "\n",
    "print(\"\\nB_train:\\n\")\n",
    "print(B_train.head())\n",
    "print(B_train.shape)\n",
    "print(\"\\n\")\n",
    "\n",
    "print(\"\\nA_test:\\n\")\n",
    "print(B_test.head())\n",
    "print(B_test.shape)\n",
    "print(\"\\n\")"
   ]
  },
  {
   "cell_type": "code",
   "execution_count": 5,
   "metadata": {},
   "outputs": [
    {
     "data": {
      "text/plain": [
       "Pipeline(steps=[('svr', SVR(C=1000.0, epsilon=0.2, gamma=0.15))])"
      ]
     },
     "execution_count": 5,
     "metadata": {},
     "output_type": "execute_result"
    }
   ],
   "source": [
    "from sklearn.svm import SVR\n",
    "from sklearn.pipeline import make_pipeline\n",
    "from sklearn.preprocessing import StandardScaler\n",
    "regr = make_pipeline(SVR(C=1000.0,kernel = 'rbf', epsilon=0.2, gamma = 0.15))\n",
    "regr.fit(A_train, B_train)"
   ]
  },
  {
   "cell_type": "code",
   "execution_count": null,
   "metadata": {},
   "outputs": [],
   "source": [
    "regr1 = make_pipeline(SVR(C=1000.0,kernel = 'linear', epsilon=0.2))\n",
    "regr1.fit(A_train, B_train)"
   ]
  },
  {
   "cell_type": "code",
   "execution_count": null,
   "metadata": {},
   "outputs": [],
   "source": [
    "regr2 = make_pipeline(SVR(C=1000.0,kernel = 'poly', epsilon=0.2, degree = 2))\n",
    "regr2.fit(A_train, B_train)"
   ]
  },
  {
   "cell_type": "code",
   "execution_count": null,
   "metadata": {},
   "outputs": [],
   "source": [
    "B = B_test.values.reshape(-1, 1)\n"
   ]
  },
  {
   "cell_type": "code",
   "execution_count": null,
   "metadata": {},
   "outputs": [],
   "source": [
    "regr.predict(B)"
   ]
  },
  {
   "cell_type": "code",
   "execution_count": null,
   "metadata": {},
   "outputs": [],
   "source": []
  }
 ],
 "metadata": {
  "kernelspec": {
   "display_name": "Python 3",
   "language": "python",
   "name": "python3"
  },
  "language_info": {
   "codemirror_mode": {
    "name": "ipython",
    "version": 3
   },
   "file_extension": ".py",
   "mimetype": "text/x-python",
   "name": "python",
   "nbconvert_exporter": "python",
   "pygments_lexer": "ipython3",
   "version": "3.7.1"
  }
 },
 "nbformat": 4,
 "nbformat_minor": 4
}
